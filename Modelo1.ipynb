{
 "cells": [
  {
   "cell_type": "markdown",
   "id": "27569044",
   "metadata": {},
   "source": [
    "La crisis de la deuda externa de 1982 implicó que la estabilización monetaria y de precios se convirtiera en un objetivo prioritario de la política económica en México. El gobierno mexicano adoptó diferentes modelos de metas de inflación con el objetivo de estabilizar los fundamentos macroeconómicos. (Fortuno y Perrotini). En 1994-1995, se adoptó un nuevo marco de política monetaria que establece una meta de inflación que depende de ajustes en la tasa de interés. En 2001, el Banco de México adoptó regla de Taylor para la estimación de la tasa de interés a corto plazo. A partir del 21 de enero de 2008, el Banco de México adoptó como objetivo operacional la tasa de interés interbancaria a un día (“tasa de fondeo bancario”) en sustitución del saldo sobre las cuentas corrientes que la banca mantiene en el propio Banco (objetivo conocido como el “corto”).\n",
    "En 1993, John B. Taylor diseñó una regla de política monetaria que permitiera a las autoridades monetarias afianzar la producción real alrededor de una meta y a controlar la inflación. La regla de política sustituye a la curva LM, por lo que, los bancos centrales se centrarán en estabilizar la tasa de interés a muy corto plazo, considerando el valor de la tasa de interés neutral, la tasa de inflación y la intención de igualar la producción real con el potencial.\n",
    "La política monetaria influye en la demanda agregada y la inflación con el objetivo de estabilizar la economía alrededor de su tendencia. Los bancos centrales emplean la tasa de interés a corto plazo como mecanismo que afecta las decisiones de gasto, ahorro e inversión de los agentes económicos. Un cambio en la tasa de interés nominal influye en las tasas de interés reales. En consecuencia, el aumento de la tasa de interés reduce la oferta de crédito bancario mediante el mecanismo de selección adversa. \n",
    "Los bancos centrales determinan sus decisiones de forma discrecionales, sin embargo, es posible identificar ciertas conductas regulares que se pueden modelos a partir de reglas para la evaluación de las variables que determinan las decisiones monetarias. Por lo tanto, el empleo de reglas o móndelos que describan el comportamiento de los bancos centrales para proyectar la trayectoria de la política monetaria.  (Galindo y Lizardi).\n",
    "La regla establece que cuando el producto real y la tasa de inflación exceden los objetivos, la tasa de interés nominal incrementa para influir directamente en la tasa de interés real con el fin de reducir la demanda agregada. Por el contrario, si la inflación y el nivel de producción real caen por debajo de las metas se recomienda disminuir la tasa de interés nominal para incentivar la demanda agregada por el mecanismo de un aumento de la tasa de interés real. \n",
    "Por tal razón, la tasa de interés es el principal mecanismo de estabilización de la economía en el corto plazo con el propósito de que el sistema de precios emita señales a los agentes para la asignación y una distribución eficiente de los recursos físico y humanos que promueva el crecimiento sostenido. \n"
   ]
  },
  {
   "cell_type": "code",
   "execution_count": 1,
   "id": "3c55fd12",
   "metadata": {},
   "outputs": [],
   "source": [
    "import numpy as np\n",
    "import pandas as pd"
   ]
  },
  {
   "cell_type": "code",
   "execution_count": 2,
   "id": "68c83d9f",
   "metadata": {},
   "outputs": [
    {
     "data": {
      "text/html": [
       "<div>\n",
       "<style scoped>\n",
       "    .dataframe tbody tr th:only-of-type {\n",
       "        vertical-align: middle;\n",
       "    }\n",
       "\n",
       "    .dataframe tbody tr th {\n",
       "        vertical-align: top;\n",
       "    }\n",
       "\n",
       "    .dataframe thead th {\n",
       "        text-align: right;\n",
       "    }\n",
       "</style>\n",
       "<table border=\"1\" class=\"dataframe\">\n",
       "  <thead>\n",
       "    <tr style=\"text-align: right;\">\n",
       "      <th></th>\n",
       "      <th>FECHA</th>\n",
       "      <th>Y</th>\n",
       "      <th>X1</th>\n",
       "      <th>X2</th>\n",
       "      <th>X3</th>\n",
       "      <th>X4</th>\n",
       "    </tr>\n",
       "  </thead>\n",
       "  <tbody>\n",
       "    <tr>\n",
       "      <th>0</th>\n",
       "      <td>2009q1</td>\n",
       "      <td>7.72</td>\n",
       "      <td>0.20</td>\n",
       "      <td>14.6066</td>\n",
       "      <td>3.177613</td>\n",
       "      <td>-2.537608</td>\n",
       "    </tr>\n",
       "    <tr>\n",
       "      <th>1</th>\n",
       "      <td>2009q2</td>\n",
       "      <td>5.27</td>\n",
       "      <td>0.17</td>\n",
       "      <td>13.3414</td>\n",
       "      <td>2.978988</td>\n",
       "      <td>-1.967703</td>\n",
       "    </tr>\n",
       "    <tr>\n",
       "      <th>2</th>\n",
       "      <td>2009q3</td>\n",
       "      <td>4.51</td>\n",
       "      <td>0.15</td>\n",
       "      <td>13.3623</td>\n",
       "      <td>2.081610</td>\n",
       "      <td>-0.507883</td>\n",
       "    </tr>\n",
       "    <tr>\n",
       "      <th>3</th>\n",
       "      <td>2009q4</td>\n",
       "      <td>4.54</td>\n",
       "      <td>0.12</td>\n",
       "      <td>13.1115</td>\n",
       "      <td>0.861444</td>\n",
       "      <td>1.985399</td>\n",
       "    </tr>\n",
       "    <tr>\n",
       "      <th>4</th>\n",
       "      <td>2010q1</td>\n",
       "      <td>4.57</td>\n",
       "      <td>0.13</td>\n",
       "      <td>12.8096</td>\n",
       "      <td>1.819982</td>\n",
       "      <td>-1.953984</td>\n",
       "    </tr>\n",
       "  </tbody>\n",
       "</table>\n",
       "</div>"
      ],
      "text/plain": [
       "    FECHA     Y    X1       X2        X3        X4\n",
       "0  2009q1  7.72  0.20  14.6066  3.177613 -2.537608\n",
       "1  2009q2  5.27  0.17  13.3414  2.978988 -1.967703\n",
       "2  2009q3  4.51  0.15  13.3623  2.081610 -0.507883\n",
       "3  2009q4  4.54  0.12  13.1115  0.861444  1.985399\n",
       "4  2010q1  4.57  0.13  12.8096  1.819982 -1.953984"
      ]
     },
     "execution_count": 2,
     "metadata": {},
     "output_type": "execute_result"
    }
   ],
   "source": [
    "RT = pd.read_csv('RegladeTaylor.csv')\n",
    "RT.head()"
   ]
  },
  {
   "cell_type": "code",
   "execution_count": 3,
   "id": "21901283",
   "metadata": {},
   "outputs": [
    {
     "data": {
      "text/html": [
       "<div>\n",
       "<style scoped>\n",
       "    .dataframe tbody tr th:only-of-type {\n",
       "        vertical-align: middle;\n",
       "    }\n",
       "\n",
       "    .dataframe tbody tr th {\n",
       "        vertical-align: top;\n",
       "    }\n",
       "\n",
       "    .dataframe thead th {\n",
       "        text-align: right;\n",
       "    }\n",
       "</style>\n",
       "<table border=\"1\" class=\"dataframe\">\n",
       "  <thead>\n",
       "    <tr style=\"text-align: right;\">\n",
       "      <th></th>\n",
       "      <th>Y</th>\n",
       "      <th>X1</th>\n",
       "      <th>X2</th>\n",
       "      <th>X3</th>\n",
       "      <th>X4</th>\n",
       "    </tr>\n",
       "    <tr>\n",
       "      <th>FECHA</th>\n",
       "      <th></th>\n",
       "      <th></th>\n",
       "      <th></th>\n",
       "      <th></th>\n",
       "      <th></th>\n",
       "    </tr>\n",
       "  </thead>\n",
       "  <tbody>\n",
       "    <tr>\n",
       "      <th>2009q1</th>\n",
       "      <td>7.72</td>\n",
       "      <td>0.20</td>\n",
       "      <td>14.6066</td>\n",
       "      <td>3.177613</td>\n",
       "      <td>-2.537608</td>\n",
       "    </tr>\n",
       "    <tr>\n",
       "      <th>2009q2</th>\n",
       "      <td>5.27</td>\n",
       "      <td>0.17</td>\n",
       "      <td>13.3414</td>\n",
       "      <td>2.978988</td>\n",
       "      <td>-1.967703</td>\n",
       "    </tr>\n",
       "    <tr>\n",
       "      <th>2009q3</th>\n",
       "      <td>4.51</td>\n",
       "      <td>0.15</td>\n",
       "      <td>13.3623</td>\n",
       "      <td>2.081610</td>\n",
       "      <td>-0.507883</td>\n",
       "    </tr>\n",
       "    <tr>\n",
       "      <th>2009q4</th>\n",
       "      <td>4.54</td>\n",
       "      <td>0.12</td>\n",
       "      <td>13.1115</td>\n",
       "      <td>0.861444</td>\n",
       "      <td>1.985399</td>\n",
       "    </tr>\n",
       "    <tr>\n",
       "      <th>2010q1</th>\n",
       "      <td>4.57</td>\n",
       "      <td>0.13</td>\n",
       "      <td>12.8096</td>\n",
       "      <td>1.819982</td>\n",
       "      <td>-1.953984</td>\n",
       "    </tr>\n",
       "  </tbody>\n",
       "</table>\n",
       "</div>"
      ],
      "text/plain": [
       "           Y    X1       X2        X3        X4\n",
       "FECHA                                          \n",
       "2009q1  7.72  0.20  14.6066  3.177613 -2.537608\n",
       "2009q2  5.27  0.17  13.3414  2.978988 -1.967703\n",
       "2009q3  4.51  0.15  13.3623  2.081610 -0.507883\n",
       "2009q4  4.54  0.12  13.1115  0.861444  1.985399\n",
       "2010q1  4.57  0.13  12.8096  1.819982 -1.953984"
      ]
     },
     "execution_count": 3,
     "metadata": {},
     "output_type": "execute_result"
    }
   ],
   "source": [
    "RT.set_index('FECHA', inplace = True)\n",
    "RT.head()"
   ]
  },
  {
   "cell_type": "code",
   "execution_count": 4,
   "id": "9e372818",
   "metadata": {},
   "outputs": [
    {
     "data": {
      "text/html": [
       "<div>\n",
       "<style scoped>\n",
       "    .dataframe tbody tr th:only-of-type {\n",
       "        vertical-align: middle;\n",
       "    }\n",
       "\n",
       "    .dataframe tbody tr th {\n",
       "        vertical-align: top;\n",
       "    }\n",
       "\n",
       "    .dataframe thead th {\n",
       "        text-align: right;\n",
       "    }\n",
       "</style>\n",
       "<table border=\"1\" class=\"dataframe\">\n",
       "  <thead>\n",
       "    <tr style=\"text-align: right;\">\n",
       "      <th></th>\n",
       "      <th>Y</th>\n",
       "      <th>X1</th>\n",
       "      <th>X2</th>\n",
       "      <th>X3</th>\n",
       "      <th>X4</th>\n",
       "      <th>X0</th>\n",
       "    </tr>\n",
       "    <tr>\n",
       "      <th>FECHA</th>\n",
       "      <th></th>\n",
       "      <th></th>\n",
       "      <th></th>\n",
       "      <th></th>\n",
       "      <th></th>\n",
       "      <th></th>\n",
       "    </tr>\n",
       "  </thead>\n",
       "  <tbody>\n",
       "    <tr>\n",
       "      <th>2009q1</th>\n",
       "      <td>7.72</td>\n",
       "      <td>0.20</td>\n",
       "      <td>14.6066</td>\n",
       "      <td>3.177613</td>\n",
       "      <td>-2.537608</td>\n",
       "      <td>1</td>\n",
       "    </tr>\n",
       "    <tr>\n",
       "      <th>2009q2</th>\n",
       "      <td>5.27</td>\n",
       "      <td>0.17</td>\n",
       "      <td>13.3414</td>\n",
       "      <td>2.978988</td>\n",
       "      <td>-1.967703</td>\n",
       "      <td>1</td>\n",
       "    </tr>\n",
       "    <tr>\n",
       "      <th>2009q3</th>\n",
       "      <td>4.51</td>\n",
       "      <td>0.15</td>\n",
       "      <td>13.3623</td>\n",
       "      <td>2.081610</td>\n",
       "      <td>-0.507883</td>\n",
       "      <td>1</td>\n",
       "    </tr>\n",
       "    <tr>\n",
       "      <th>2009q4</th>\n",
       "      <td>4.54</td>\n",
       "      <td>0.12</td>\n",
       "      <td>13.1115</td>\n",
       "      <td>0.861444</td>\n",
       "      <td>1.985399</td>\n",
       "      <td>1</td>\n",
       "    </tr>\n",
       "    <tr>\n",
       "      <th>2010q1</th>\n",
       "      <td>4.57</td>\n",
       "      <td>0.13</td>\n",
       "      <td>12.8096</td>\n",
       "      <td>1.819982</td>\n",
       "      <td>-1.953984</td>\n",
       "      <td>1</td>\n",
       "    </tr>\n",
       "  </tbody>\n",
       "</table>\n",
       "</div>"
      ],
      "text/plain": [
       "           Y    X1       X2        X3        X4  X0\n",
       "FECHA                                              \n",
       "2009q1  7.72  0.20  14.6066  3.177613 -2.537608   1\n",
       "2009q2  5.27  0.17  13.3414  2.978988 -1.967703   1\n",
       "2009q3  4.51  0.15  13.3623  2.081610 -0.507883   1\n",
       "2009q4  4.54  0.12  13.1115  0.861444  1.985399   1\n",
       "2010q1  4.57  0.13  12.8096  1.819982 -1.953984   1"
      ]
     },
     "execution_count": 4,
     "metadata": {},
     "output_type": "execute_result"
    }
   ],
   "source": [
    "# Generar el vector (variable) X1 al dataframe\n",
    "RT['X0']=1\n",
    "RT.head()"
   ]
  },
  {
   "cell_type": "code",
   "execution_count": 6,
   "id": "b9ff7905",
   "metadata": {},
   "outputs": [
    {
     "data": {
      "text/plain": [
       "array([ 7.72 ,  5.27 ,  4.51 ,  4.54 ,  4.57 ,  4.59 ,  4.6  ,  4.55 ,\n",
       "        4.53 ,  4.5  ,  4.45 ,  4.41 ,  4.5  ,  4.5  ,  4.49 ,  4.5  ,\n",
       "        4.49 ,  4.02 ,  4.01 ,  3.61 ,  3.51 ,  3.53 ,  3.03 ,  3.05 ,\n",
       "        3.06 ,  3.045,  3.07 ,  3.06 ,  3.36 ,  3.79 ,  4.28 ,  4.905,\n",
       "        6.22 ,  6.72 ,  7.03 ,  7.03 ,  7.51 ,  7.55 ,  7.79 ,  7.935,\n",
       "        8.25 ,  8.28 ,  8.26 ,  7.75 ,  7.13 ,  5.715,  4.63 ,  4.25 ,\n",
       "        4.09 ,  4.02 ,  4.47 ,  4.94 ,  5.95 ,  6.91 ,  8.47 ,  9.98 ,\n",
       "       10.97 ])"
      ]
     },
     "metadata": {},
     "output_type": "display_data"
    }
   ],
   "source": [
    "# Transformar el dataframe a matrices mediante \"numpy\"\n",
    "y = RT['Y'].to_numpy()\n",
    "display(y)"
   ]
  },
  {
   "cell_type": "code",
   "execution_count": 7,
   "id": "6d3e1b8a",
   "metadata": {},
   "outputs": [
    {
     "data": {
      "text/plain": [
       "array([[ 1.00000000e+00,  2.00000000e-01,  1.46066000e+01,\n",
       "         3.17761258e+00, -2.53760790e+00],\n",
       "       [ 1.00000000e+00,  1.70000000e-01,  1.33414000e+01,\n",
       "         2.97898796e+00, -1.96770310e+00],\n",
       "       [ 1.00000000e+00,  1.50000000e-01,  1.33623000e+01,\n",
       "         2.08160961e+00, -5.07882770e-01],\n",
       "       [ 1.00000000e+00,  1.20000000e-01,  1.31115000e+01,\n",
       "         8.61444302e-01,  1.98539870e+00],\n",
       "       [ 1.00000000e+00,  1.30000000e-01,  1.28096000e+01,\n",
       "         1.81998214e+00, -1.95398440e+00],\n",
       "       [ 1.00000000e+00,  2.00000000e-01,  1.27102000e+01,\n",
       "         9.15885019e-01,  1.21076630e+00],\n",
       "       [ 1.00000000e+00,  1.90000000e-01,  1.27977000e+01,\n",
       "         6.55567839e-01,  4.11202640e-01],\n",
       "       [ 1.00000000e+00,  1.90000000e-01,  1.23902000e+01,\n",
       "         1.28086078e+00,  1.88378740e+00],\n",
       "       [ 1.00000000e+00,  1.50000000e-01,  1.20649000e+01,\n",
       "         5.60520399e-01, -1.83342480e+00],\n",
       "       [ 1.00000000e+00,  9.00000000e-02,  1.17059000e+01,\n",
       "         2.51155316e-01,  2.27233450e-01],\n",
       "       [ 1.00000000e+00,  8.00000000e-02,  1.22366000e+01,\n",
       "         4.24100374e-01,  7.13993610e-01],\n",
       "       [ 1.00000000e+00,  7.00000000e-02,  1.36955000e+01,\n",
       "         4.82316523e-01,  2.44398430e+00],\n",
       "       [ 1.00000000e+00,  1.10000000e-01,  1.27833000e+01,\n",
       "         8.37183553e-01, -1.71780590e-01],\n",
       "       [ 1.00000000e+00,  1.60000000e-01,  1.36199000e+01,\n",
       "         8.51811248e-01,  1.17291800e+00],\n",
       "       [ 1.00000000e+00,  1.40000000e-01,  1.31793000e+01,\n",
       "         1.56798138e+00,  2.71585490e-01],\n",
       "       [ 1.00000000e+00,  1.60000000e-01,  1.28976000e+01,\n",
       "         1.17951525e+00,  2.34754230e+00],\n",
       "       [ 1.00000000e+00,  1.40000000e-01,  1.26964000e+01,\n",
       "         5.53281616e-01, -3.13018420e+00],\n",
       "       [ 1.00000000e+00,  1.20000000e-01,  1.22993000e+01,\n",
       "         1.56223149e+00,  2.35600400e-01],\n",
       "       [ 1.00000000e+00,  9.00000000e-02,  1.29120000e+01,\n",
       "         4.37878982e-01, -1.24141190e+00],\n",
       "       [ 1.00000000e+00,  9.00000000e-02,  1.30099000e+01,\n",
       "         6.18807725e-01,  7.32994080e-01],\n",
       "       [ 1.00000000e+00,  7.00000000e-02,  1.32220000e+01,\n",
       "         1.23348196e+00, -3.08391310e+00],\n",
       "       [ 1.00000000e+00,  9.00000000e-02,  1.29932000e+01,\n",
       "         5.52528793e-01, -1.67290630e-01],\n",
       "       [ 1.00000000e+00,  9.00000000e-02,  1.31436000e+01,\n",
       "         1.17938111e+00, -9.78919510e-01],\n",
       "       [ 1.00000000e+00,  9.00000000e-02,  1.36148000e+01,\n",
       "         1.18508647e+00,  1.52515590e+00],\n",
       "       [ 1.00000000e+00,  1.20000000e-01,  1.49170000e+01,\n",
       "         4.25211010e-02, -2.36815310e+00],\n",
       "       [ 1.00000000e+00,  1.30000000e-01,  1.52796000e+01,\n",
       "        -9.78504610e-02,  1.19855400e-01],\n",
       "       [ 1.00000000e+00,  1.40000000e-01,  1.65340000e+01,\n",
       "        -4.12171042e-01,  4.05985120e-01],\n",
       "       [ 1.00000000e+00,  1.30000000e-01,  1.66306000e+01,\n",
       "        -7.37788072e-01,  1.87833820e+00],\n",
       "       [ 1.00000000e+00,  3.70000000e-01,  1.80648000e+01,\n",
       "        -2.68007587e-01, -2.46719720e+00],\n",
       "       [ 1.00000000e+00,  3.70000000e-01,  1.81360000e+01,\n",
       "        -4.59434054e-01,  7.30162740e-01],\n",
       "       [ 1.00000000e+00,  4.00000000e-01,  1.86155000e+01,\n",
       "        -2.43477786e-01, -2.20846030e-01],\n",
       "       [ 1.00000000e+00,  4.10000000e-01,  2.00086000e+01,\n",
       "         2.69108187e-01,  2.78619910e+00],\n",
       "       [ 1.00000000e+00,  6.60000000e-01,  2.03008000e+01,\n",
       "         1.89913937e+00, -3.59196690e-01],\n",
       "       [ 1.00000000e+00,  9.10000000e-01,  1.87666000e+01,\n",
       "         3.16446264e+00,  1.14355830e+00],\n",
       "       [ 1.00000000e+00,  1.16000000e+00,  1.78081000e+01,\n",
       "         3.55851290e+00,  1.28660090e-02],\n",
       "       [ 1.00000000e+00,  1.16000000e+00,  1.89306000e+01,\n",
       "         3.63412065e+00,  3.39710930e+00],\n",
       "       [ 1.00000000e+00,  1.42000000e+00,  1.86473000e+01,\n",
       "         2.33974927e+00,  2.57533600e-02],\n",
       "       [ 1.00000000e+00,  1.70000000e+00,  1.95525000e+01,\n",
       "         1.54508376e+00,  3.48216080e+00],\n",
       "       [ 1.00000000e+00,  1.91000000e+00,  1.89856000e+01,\n",
       "         1.86174400e+00,  2.41045020e+00],\n",
       "       [ 1.00000000e+00,  2.20000000e+00,  2.00972000e+01,\n",
       "         1.87297847e+00,  4.50017020e+00],\n",
       "       [ 1.00000000e+00,  2.40000000e+00,  1.91953000e+01,\n",
       "         1.02411371e+00,  1.01310230e+00],\n",
       "       [ 1.00000000e+00,  2.39000000e+00,  1.91110000e+01,\n",
       "         1.25762976e+00,  2.73400380e+00],\n",
       "       [ 1.00000000e+00,  2.13000000e+00,  1.95470000e+01,\n",
       "         1.62129458e-01,  2.12146380e+00],\n",
       "       [ 1.00000000e+00,  1.55000000e+00,  1.93193000e+01,\n",
       "         1.46561420e-02,  3.58272460e+00],\n",
       "       [ 1.00000000e+00,  1.55000000e+00,  1.88423000e+01,\n",
       "         4.06309005e-01, -4.05077930e-01],\n",
       "       [ 1.00000000e+00,  5.00000000e-02,  2.35240000e+01,\n",
       "        -1.62242560e-01, -1.84371890e+01],\n",
       "       [ 1.00000000e+00,  9.00000000e-02,  2.22017000e+01,\n",
       "         9.61061461e-01, -6.49024820e+00],\n",
       "       [ 1.00000000e+00,  9.00000000e-02,  2.04566000e+01,\n",
       "         3.31446835e-01, -5.42453530e-01],\n",
       "       [ 1.00000000e+00,  7.00000000e-02,  2.03296000e+01,\n",
       "         7.89928120e-01, -3.63960340e+00],\n",
       "       [ 1.00000000e+00,  6.00000000e-02,  2.00314000e+01,\n",
       "         3.00365591e+00, -6.39417410e-01],\n",
       "       [ 1.00000000e+00,  9.50000000e-02,  2.00461000e+01,\n",
       "         2.80624364e+00, -2.57292370e+00],\n",
       "       [ 1.00000000e+00,  8.00000000e-02,  2.08698000e+01,\n",
       "         4.15283993e+00,  5.96901240e-01],\n",
       "       [ 1.00000000e+00,  8.00000000e-02,  2.05074000e+01,\n",
       "         4.25422953e+00, -1.74163000e+00],\n",
       "       [ 1.00000000e+00,  8.30000000e-01,  2.00575000e+01,\n",
       "         4.72145562e+00,  1.55275680e+00],\n",
       "       [ 1.00000000e+00,  2.33000000e+00,  2.01130000e+01,\n",
       "         5.63137241e+00,  1.16921210e+00],\n",
       "       [ 1.00000000e+00,  3.83000000e+00,  1.96148000e+01,\n",
       "         4.99963819e+00,  3.54754540e+00],\n",
       "       [ 1.00000000e+00,  4.57500000e+00,  1.86368000e+01,\n",
       "         4.61956824e+00,  6.41016420e-01]])"
      ]
     },
     "metadata": {},
     "output_type": "display_data"
    }
   ],
   "source": [
    "X =RT[['X0', 'X1', 'X2', 'X3', 'X4']].to_numpy()\n",
    "display(X)"
   ]
  },
  {
   "cell_type": "code",
   "execution_count": 8,
   "id": "9c6a1044",
   "metadata": {},
   "outputs": [
    {
     "data": {
      "text/plain": [
       "array([[  1.        ,   0.2       ,  14.6066    ,   3.17761258,\n",
       "         -2.5376079 ],\n",
       "       [  1.        ,   0.17      ,  13.3414    ,   2.97898796,\n",
       "         -1.9677031 ],\n",
       "       [  1.        ,   0.15      ,  13.3623    ,   2.08160961,\n",
       "         -0.50788277],\n",
       "       [  1.        ,   0.12      ,  13.1115    ,   0.8614443 ,\n",
       "          1.9853987 ],\n",
       "       [  1.        ,   0.13      ,  12.8096    ,   1.81998214,\n",
       "         -1.9539844 ],\n",
       "       [  1.        ,   0.2       ,  12.7102    ,   0.91588502,\n",
       "          1.2107663 ],\n",
       "       [  1.        ,   0.19      ,  12.7977    ,   0.65556784,\n",
       "          0.41120264],\n",
       "       [  1.        ,   0.19      ,  12.3902    ,   1.28086078,\n",
       "          1.8837874 ],\n",
       "       [  1.        ,   0.15      ,  12.0649    ,   0.5605204 ,\n",
       "         -1.8334248 ],\n",
       "       [  1.        ,   0.09      ,  11.7059    ,   0.25115532,\n",
       "          0.22723345],\n",
       "       [  1.        ,   0.08      ,  12.2366    ,   0.42410037,\n",
       "          0.71399361],\n",
       "       [  1.        ,   0.07      ,  13.6955    ,   0.48231652,\n",
       "          2.4439843 ],\n",
       "       [  1.        ,   0.11      ,  12.7833    ,   0.83718355,\n",
       "         -0.17178059],\n",
       "       [  1.        ,   0.16      ,  13.6199    ,   0.85181125,\n",
       "          1.172918  ],\n",
       "       [  1.        ,   0.14      ,  13.1793    ,   1.56798138,\n",
       "          0.27158549],\n",
       "       [  1.        ,   0.16      ,  12.8976    ,   1.17951525,\n",
       "          2.3475423 ],\n",
       "       [  1.        ,   0.14      ,  12.6964    ,   0.55328162,\n",
       "         -3.1301842 ],\n",
       "       [  1.        ,   0.12      ,  12.2993    ,   1.56223149,\n",
       "          0.2356004 ],\n",
       "       [  1.        ,   0.09      ,  12.912     ,   0.43787898,\n",
       "         -1.2414119 ],\n",
       "       [  1.        ,   0.09      ,  13.0099    ,   0.61880773,\n",
       "          0.73299408],\n",
       "       [  1.        ,   0.07      ,  13.222     ,   1.23348196,\n",
       "         -3.0839131 ],\n",
       "       [  1.        ,   0.09      ,  12.9932    ,   0.55252879,\n",
       "         -0.16729063],\n",
       "       [  1.        ,   0.09      ,  13.1436    ,   1.17938111,\n",
       "         -0.97891951],\n",
       "       [  1.        ,   0.09      ,  13.6148    ,   1.18508647,\n",
       "          1.5251559 ],\n",
       "       [  1.        ,   0.12      ,  14.917     ,   0.0425211 ,\n",
       "         -2.3681531 ],\n",
       "       [  1.        ,   0.13      ,  15.2796    ,  -0.09785046,\n",
       "          0.1198554 ],\n",
       "       [  1.        ,   0.14      ,  16.534     ,  -0.41217104,\n",
       "          0.40598512],\n",
       "       [  1.        ,   0.13      ,  16.6306    ,  -0.73778807,\n",
       "          1.8783382 ],\n",
       "       [  1.        ,   0.37      ,  18.0648    ,  -0.26800759,\n",
       "         -2.4671972 ],\n",
       "       [  1.        ,   0.37      ,  18.136     ,  -0.45943405,\n",
       "          0.73016274],\n",
       "       [  1.        ,   0.4       ,  18.6155    ,  -0.24347779,\n",
       "         -0.22084603],\n",
       "       [  1.        ,   0.41      ,  20.0086    ,   0.26910819,\n",
       "          2.7861991 ],\n",
       "       [  1.        ,   0.66      ,  20.3008    ,   1.89913937,\n",
       "         -0.35919669],\n",
       "       [  1.        ,   0.91      ,  18.7666    ,   3.16446264,\n",
       "          1.1435583 ],\n",
       "       [  1.        ,   1.16      ,  17.8081    ,   3.5585129 ,\n",
       "          0.01286601],\n",
       "       [  1.        ,   1.16      ,  18.9306    ,   3.63412065,\n",
       "          3.3971093 ],\n",
       "       [  1.        ,   1.42      ,  18.6473    ,   2.33974927,\n",
       "          0.02575336],\n",
       "       [  1.        ,   1.7       ,  19.5525    ,   1.54508376,\n",
       "          3.4821608 ],\n",
       "       [  1.        ,   1.91      ,  18.9856    ,   1.861744  ,\n",
       "          2.4104502 ],\n",
       "       [  1.        ,   2.2       ,  20.0972    ,   1.87297847,\n",
       "          4.5001702 ],\n",
       "       [  1.        ,   2.4       ,  19.1953    ,   1.02411371,\n",
       "          1.0131023 ],\n",
       "       [  1.        ,   2.39      ,  19.111     ,   1.25762976,\n",
       "          2.7340038 ],\n",
       "       [  1.        ,   2.13      ,  19.547     ,   0.16212946,\n",
       "          2.1214638 ],\n",
       "       [  1.        ,   1.55      ,  19.3193    ,   0.01465614,\n",
       "          3.5827246 ],\n",
       "       [  1.        ,   1.55      ,  18.8423    ,   0.40630901,\n",
       "         -0.40507793],\n",
       "       [  1.        ,   0.05      ,  23.524     ,  -0.16224256,\n",
       "        -18.437189  ],\n",
       "       [  1.        ,   0.09      ,  22.2017    ,   0.96106146,\n",
       "         -6.4902482 ],\n",
       "       [  1.        ,   0.09      ,  20.4566    ,   0.33144683,\n",
       "         -0.54245353],\n",
       "       [  1.        ,   0.07      ,  20.3296    ,   0.78992812,\n",
       "         -3.6396034 ],\n",
       "       [  1.        ,   0.06      ,  20.0314    ,   3.00365591,\n",
       "         -0.63941741],\n",
       "       [  1.        ,   0.095     ,  20.0461    ,   2.80624364,\n",
       "         -2.5729237 ],\n",
       "       [  1.        ,   0.08      ,  20.8698    ,   4.15283993,\n",
       "          0.59690124],\n",
       "       [  1.        ,   0.08      ,  20.5074    ,   4.25422953,\n",
       "         -1.74163   ],\n",
       "       [  1.        ,   0.83      ,  20.0575    ,   4.72145562,\n",
       "          1.5527568 ],\n",
       "       [  1.        ,   2.33      ,  20.113     ,   5.63137241,\n",
       "          1.1692121 ],\n",
       "       [  1.        ,   3.83      ,  19.6148    ,   4.99963819,\n",
       "          3.5475454 ],\n",
       "       [  1.        ,   4.575     ,  18.6368    ,   4.61956824,\n",
       "          0.64101642]])"
      ]
     },
     "metadata": {},
     "output_type": "display_data"
    }
   ],
   "source": [
    "np.set_printoptions(suppress = True)\n",
    "display(X)"
   ]
  },
  {
   "cell_type": "code",
   "execution_count": 9,
   "id": "b5055bef",
   "metadata": {},
   "outputs": [
    {
     "name": "stdout",
     "output_type": "stream",
     "text": [
      "[[  1.           1.           1.           1.           1.\n",
      "    1.           1.           1.           1.           1.\n",
      "    1.           1.           1.           1.           1.\n",
      "    1.           1.           1.           1.           1.\n",
      "    1.           1.           1.           1.           1.\n",
      "    1.           1.           1.           1.           1.\n",
      "    1.           1.           1.           1.           1.\n",
      "    1.           1.           1.           1.           1.\n",
      "    1.           1.           1.           1.           1.\n",
      "    1.           1.           1.           1.           1.\n",
      "    1.           1.           1.           1.           1.\n",
      "    1.           1.        ]\n",
      " [  0.2          0.17         0.15         0.12         0.13\n",
      "    0.2          0.19         0.19         0.15         0.09\n",
      "    0.08         0.07         0.11         0.16         0.14\n",
      "    0.16         0.14         0.12         0.09         0.09\n",
      "    0.07         0.09         0.09         0.09         0.12\n",
      "    0.13         0.14         0.13         0.37         0.37\n",
      "    0.4          0.41         0.66         0.91         1.16\n",
      "    1.16         1.42         1.7          1.91         2.2\n",
      "    2.4          2.39         2.13         1.55         1.55\n",
      "    0.05         0.09         0.09         0.07         0.06\n",
      "    0.095        0.08         0.08         0.83         2.33\n",
      "    3.83         4.575     ]\n",
      " [ 14.6066      13.3414      13.3623      13.1115      12.8096\n",
      "   12.7102      12.7977      12.3902      12.0649      11.7059\n",
      "   12.2366      13.6955      12.7833      13.6199      13.1793\n",
      "   12.8976      12.6964      12.2993      12.912       13.0099\n",
      "   13.222       12.9932      13.1436      13.6148      14.917\n",
      "   15.2796      16.534       16.6306      18.0648      18.136\n",
      "   18.6155      20.0086      20.3008      18.7666      17.8081\n",
      "   18.9306      18.6473      19.5525      18.9856      20.0972\n",
      "   19.1953      19.111       19.547       19.3193      18.8423\n",
      "   23.524       22.2017      20.4566      20.3296      20.0314\n",
      "   20.0461      20.8698      20.5074      20.0575      20.113\n",
      "   19.6148      18.6368    ]\n",
      " [  3.17761258   2.97898796   2.08160961   0.8614443    1.81998214\n",
      "    0.91588502   0.65556784   1.28086078   0.5605204    0.25115532\n",
      "    0.42410037   0.48231652   0.83718355   0.85181125   1.56798138\n",
      "    1.17951525   0.55328162   1.56223149   0.43787898   0.61880773\n",
      "    1.23348196   0.55252879   1.17938111   1.18508647   0.0425211\n",
      "   -0.09785046  -0.41217104  -0.73778807  -0.26800759  -0.45943405\n",
      "   -0.24347779   0.26910819   1.89913937   3.16446264   3.5585129\n",
      "    3.63412065   2.33974927   1.54508376   1.861744     1.87297847\n",
      "    1.02411371   1.25762976   0.16212946   0.01465614   0.40630901\n",
      "   -0.16224256   0.96106146   0.33144683   0.78992812   3.00365591\n",
      "    2.80624364   4.15283993   4.25422953   4.72145562   5.63137241\n",
      "    4.99963819   4.61956824]\n",
      " [ -2.5376079   -1.9677031   -0.50788277   1.9853987   -1.9539844\n",
      "    1.2107663    0.41120264   1.8837874   -1.8334248    0.22723345\n",
      "    0.71399361   2.4439843   -0.17178059   1.172918     0.27158549\n",
      "    2.3475423   -3.1301842    0.2356004   -1.2414119    0.73299408\n",
      "   -3.0839131   -0.16729063  -0.97891951   1.5251559   -2.3681531\n",
      "    0.1198554    0.40598512   1.8783382   -2.4671972    0.73016274\n",
      "   -0.22084603   2.7861991   -0.35919669   1.1435583    0.01286601\n",
      "    3.3971093    0.02575336   3.4821608    2.4104502    4.5001702\n",
      "    1.0131023    2.7340038    2.1214638    3.5827246   -0.40507793\n",
      "  -18.437189    -6.4902482   -0.54245353  -3.6396034   -0.63941741\n",
      "   -2.5729237    0.59690124  -1.74163      1.5527568    1.1692121\n",
      "    3.5475454    0.64101642]]\n"
     ]
    }
   ],
   "source": [
    "# Transponer a la matrix X\n",
    "trX = X.T\n",
    "print(trX)"
   ]
  },
  {
   "cell_type": "code",
   "execution_count": 10,
   "id": "8f8d8c2f",
   "metadata": {},
   "outputs": [
    {
     "data": {
      "text/plain": [
       "array([[   57.        ,    38.48      ,   944.8821    ,    84.19193917,\n",
       "           -4.44454133],\n",
       "       [   38.48      ,    81.03855   ,   720.0131265 ,    94.61720042,\n",
       "           62.08485547],\n",
       "       [  944.8821    ,   720.0131265 , 16306.25458273,  1481.51628955,\n",
       "         -164.47621794],\n",
       "       [   84.19193917,    94.61720042,  1481.51628955,   256.83293129,\n",
       "           38.92383691],\n",
       "       [   -4.44454133,    62.08485547,  -164.47621794,    38.92383691,\n",
       "          588.85452294]])"
      ]
     },
     "metadata": {},
     "output_type": "display_data"
    }
   ],
   "source": [
    "# Obtener (X'X)\n",
    "X_X = np.dot(trX, X)\n",
    "display(X_X)"
   ]
  },
  {
   "cell_type": "code",
   "execution_count": 11,
   "id": "e14bfbc0",
   "metadata": {},
   "outputs": [
    {
     "name": "stdout",
     "output_type": "stream",
     "text": [
      "75818803831.36862\n"
     ]
    }
   ],
   "source": [
    "# determinante de (X'X)\n",
    "print(np.linalg.det(X_X))"
   ]
  },
  {
   "cell_type": "code",
   "execution_count": 12,
   "id": "208962c0",
   "metadata": {},
   "outputs": [
    {
     "data": {
      "text/plain": [
       "array([[ 0.54224764,  0.05079351, -0.03376469, -0.0000773 , -0.01068846],\n",
       "       [ 0.05079351,  0.03207365, -0.00391332, -0.00532617, -0.00373924],\n",
       "       [-0.03376469, -0.00391332,  0.0022564 , -0.00063158,  0.00082974],\n",
       "       [-0.0000773 , -0.00532617, -0.00063158,  0.0095618 , -0.00024748],\n",
       "       [-0.01068846, -0.00373924,  0.00082974, -0.00024748,  0.0022599 ]])"
      ]
     },
     "metadata": {},
     "output_type": "display_data"
    }
   ],
   "source": [
    "# inversa de X_X\n",
    "invX_X = np.linalg.inv(X_X)\n",
    "display(invX_X)"
   ]
  },
  {
   "cell_type": "code",
   "execution_count": 13,
   "id": "c506aae0",
   "metadata": {},
   "outputs": [
    {
     "data": {
      "text/plain": [
       "array([ 305.9       ,  301.49315   , 5252.627625  ,  547.65401658,\n",
       "         61.72010885])"
      ]
     },
     "metadata": {},
     "output_type": "display_data"
    }
   ],
   "source": [
    "# Obtener X'y\n",
    "Xy = np.dot(trX, y)\n",
    "display(Xy)"
   ]
  },
  {
   "cell_type": "code",
   "execution_count": 14,
   "id": "c8f92c4a",
   "metadata": {},
   "outputs": [
    {
     "name": "stdout",
     "output_type": "stream",
     "text": [
      "[ 3.13210268  1.5048419   0.048905    0.27437573 -0.03468271]\n"
     ]
    }
   ],
   "source": [
    "# Obtener al vector beta\n",
    "beta = np.dot(invX_X, Xy)\n",
    "print(beta)"
   ]
  },
  {
   "cell_type": "code",
   "execution_count": 15,
   "id": "f252f4b4",
   "metadata": {},
   "outputs": [
    {
     "name": "stdout",
     "output_type": "stream",
     "text": [
      "y=  3.13210268 + 1.5048419X2+ 0.048905X3+ 0.27437573X4- -0.03468271X5\n"
     ]
    }
   ],
   "source": [
    "print('y=  3.13210268 + 1.5048419X2+ 0.048905X3+ 0.27437573X4- -0.03468271X5')"
   ]
  },
  {
   "cell_type": "code",
   "execution_count": 16,
   "id": "f228f00f",
   "metadata": {},
   "outputs": [
    {
     "data": {
      "text/plain": [
       "1846.9763"
      ]
     },
     "metadata": {},
     "output_type": "display_data"
    }
   ],
   "source": [
    "# Obtener SRC = u'u = y'y - B'X'y\n",
    "Try = y.T\n",
    "y_y = np.dot(Try,y)\n",
    "display(y_y)"
   ]
  },
  {
   "cell_type": "code",
   "execution_count": 17,
   "id": "c6d2b071",
   "metadata": {},
   "outputs": [
    {
     "data": {
      "text/plain": [
       "array([ 3.13210268,  1.5048419 ,  0.048905  ,  0.27437573, -0.03468271])"
      ]
     },
     "metadata": {},
     "output_type": "display_data"
    }
   ],
   "source": [
    "# Transponer a beta\n",
    "TrB = beta.T\n",
    "display(TrB)"
   ]
  },
  {
   "cell_type": "code",
   "execution_count": 18,
   "id": "125b4f44",
   "metadata": {},
   "outputs": [
    {
     "data": {
      "text/plain": [
       "1816.8118295416707"
      ]
     },
     "metadata": {},
     "output_type": "display_data"
    }
   ],
   "source": [
    "BXy = np.dot(TrB,Xy)\n",
    "display(BXy)"
   ]
  },
  {
   "cell_type": "code",
   "execution_count": 19,
   "id": "a71d100f",
   "metadata": {},
   "outputs": [
    {
     "data": {
      "text/plain": [
       "30.164470458329333"
      ]
     },
     "metadata": {},
     "output_type": "display_data"
    }
   ],
   "source": [
    "u_u = y_y - BXy\n",
    "display(u_u)"
   ]
  },
  {
   "cell_type": "code",
   "execution_count": 20,
   "id": "1f04efa5",
   "metadata": {},
   "outputs": [
    {
     "data": {
      "text/html": [
       "<div>\n",
       "<style scoped>\n",
       "    .dataframe tbody tr th:only-of-type {\n",
       "        vertical-align: middle;\n",
       "    }\n",
       "\n",
       "    .dataframe tbody tr th {\n",
       "        vertical-align: top;\n",
       "    }\n",
       "\n",
       "    .dataframe thead th {\n",
       "        text-align: right;\n",
       "    }\n",
       "</style>\n",
       "<table border=\"1\" class=\"dataframe\">\n",
       "  <thead>\n",
       "    <tr style=\"text-align: right;\">\n",
       "      <th></th>\n",
       "      <th>Y</th>\n",
       "      <th>X1</th>\n",
       "      <th>X2</th>\n",
       "      <th>X3</th>\n",
       "      <th>X4</th>\n",
       "      <th>X0</th>\n",
       "    </tr>\n",
       "  </thead>\n",
       "  <tbody>\n",
       "    <tr>\n",
       "      <th>count</th>\n",
       "      <td>57.000000</td>\n",
       "      <td>57.000000</td>\n",
       "      <td>57.000000</td>\n",
       "      <td>57.000000</td>\n",
       "      <td>57.000000</td>\n",
       "      <td>57.0</td>\n",
       "    </tr>\n",
       "    <tr>\n",
       "      <th>mean</th>\n",
       "      <td>5.366667</td>\n",
       "      <td>0.675088</td>\n",
       "      <td>16.576879</td>\n",
       "      <td>1.477052</td>\n",
       "      <td>-0.077974</td>\n",
       "      <td>1.0</td>\n",
       "    </tr>\n",
       "    <tr>\n",
       "      <th>std</th>\n",
       "      <td>1.914759</td>\n",
       "      <td>0.991582</td>\n",
       "      <td>3.388685</td>\n",
       "      <td>1.538071</td>\n",
       "      <td>3.241770</td>\n",
       "      <td>0.0</td>\n",
       "    </tr>\n",
       "    <tr>\n",
       "      <th>min</th>\n",
       "      <td>3.030000</td>\n",
       "      <td>0.050000</td>\n",
       "      <td>11.705900</td>\n",
       "      <td>-0.737788</td>\n",
       "      <td>-18.437189</td>\n",
       "      <td>1.0</td>\n",
       "    </tr>\n",
       "    <tr>\n",
       "      <th>25%</th>\n",
       "      <td>4.090000</td>\n",
       "      <td>0.090000</td>\n",
       "      <td>13.111500</td>\n",
       "      <td>0.424100</td>\n",
       "      <td>-0.978920</td>\n",
       "      <td>1.0</td>\n",
       "    </tr>\n",
       "    <tr>\n",
       "      <th>50%</th>\n",
       "      <td>4.540000</td>\n",
       "      <td>0.150000</td>\n",
       "      <td>17.808100</td>\n",
       "      <td>1.024114</td>\n",
       "      <td>0.271585</td>\n",
       "      <td>1.0</td>\n",
       "    </tr>\n",
       "    <tr>\n",
       "      <th>75%</th>\n",
       "      <td>7.030000</td>\n",
       "      <td>0.910000</td>\n",
       "      <td>19.552500</td>\n",
       "      <td>2.081610</td>\n",
       "      <td>1.552757</td>\n",
       "      <td>1.0</td>\n",
       "    </tr>\n",
       "    <tr>\n",
       "      <th>max</th>\n",
       "      <td>10.970000</td>\n",
       "      <td>4.575000</td>\n",
       "      <td>23.524000</td>\n",
       "      <td>5.631372</td>\n",
       "      <td>4.500170</td>\n",
       "      <td>1.0</td>\n",
       "    </tr>\n",
       "  </tbody>\n",
       "</table>\n",
       "</div>"
      ],
      "text/plain": [
       "               Y         X1         X2         X3         X4    X0\n",
       "count  57.000000  57.000000  57.000000  57.000000  57.000000  57.0\n",
       "mean    5.366667   0.675088  16.576879   1.477052  -0.077974   1.0\n",
       "std     1.914759   0.991582   3.388685   1.538071   3.241770   0.0\n",
       "min     3.030000   0.050000  11.705900  -0.737788 -18.437189   1.0\n",
       "25%     4.090000   0.090000  13.111500   0.424100  -0.978920   1.0\n",
       "50%     4.540000   0.150000  17.808100   1.024114   0.271585   1.0\n",
       "75%     7.030000   0.910000  19.552500   2.081610   1.552757   1.0\n",
       "max    10.970000   4.575000  23.524000   5.631372   4.500170   1.0"
      ]
     },
     "execution_count": 20,
     "metadata": {},
     "output_type": "execute_result"
    }
   ],
   "source": [
    "# var(u) = u'u / n-k\n",
    "RT.describe()"
   ]
  },
  {
   "cell_type": "code",
   "execution_count": 22,
   "id": "fd5596e2",
   "metadata": {},
   "outputs": [
    {
     "name": "stdout",
     "output_type": "stream",
     "text": [
      "52\n"
     ]
    }
   ],
   "source": [
    "n_k = 57-5\n",
    "print(n_k)"
   ]
  },
  {
   "cell_type": "code",
   "execution_count": 23,
   "id": "ae77ff71",
   "metadata": {},
   "outputs": [
    {
     "name": "stdout",
     "output_type": "stream",
     "text": [
      "0.5800859703524872\n"
     ]
    }
   ],
   "source": [
    "var_u = u_u / n_k\n",
    "print(var_u)"
   ]
  },
  {
   "cell_type": "code",
   "execution_count": 24,
   "id": "ba03be4e",
   "metadata": {},
   "outputs": [
    {
     "name": "stdout",
     "output_type": "stream",
     "text": [
      "0.7616337507965933\n"
     ]
    }
   ],
   "source": [
    "sd_var_u = var_u**(1/2)\n",
    "print(sd_var_u)"
   ]
  },
  {
   "cell_type": "code",
   "execution_count": 25,
   "id": "e37220aa",
   "metadata": {},
   "outputs": [
    {
     "data": {
      "text/plain": [
       "array([[ 0.31455025,  0.02946461, -0.01958642, -0.00004484, -0.00620022],\n",
       "       [ 0.02946461,  0.01860548, -0.00227006, -0.00308963, -0.00216908],\n",
       "       [-0.01958642, -0.00227006,  0.00130891, -0.00036637,  0.00048132],\n",
       "       [-0.00004484, -0.00308963, -0.00036637,  0.00554667, -0.00014356],\n",
       "       [-0.00620022, -0.00216908,  0.00048132, -0.00014356,  0.00131093]])"
      ]
     },
     "metadata": {},
     "output_type": "display_data"
    }
   ],
   "source": [
    "# Obtener la matriz var_cov(beta) = var(u)*inv(x'x)\n",
    "var_cov_beta = var_u*invX_X\n",
    "display(var_cov_beta)"
   ]
  },
  {
   "cell_type": "code",
   "execution_count": 26,
   "id": "5700bbfb",
   "metadata": {},
   "outputs": [
    {
     "name": "stdout",
     "output_type": "stream",
     "text": [
      "0.555531583260574 0.13510895603178938 0.0358358758787894 0.07376998034431079 0.03586363060260352\n"
     ]
    }
   ],
   "source": [
    "ee_B0 = 0.30861534**0.5\n",
    "ee_B1 = 0.01825443**0.5\n",
    "ee_B2 = 0.00128421**0.5\n",
    "ee_B3 = 0.00544201**0.5\n",
    "ee_B4 = 0.0012862**0.5\n",
    "print(ee_B0, ee_B1, ee_B2, ee_B3, ee_B4)"
   ]
  },
  {
   "cell_type": "code",
   "execution_count": 28,
   "id": "6848df43",
   "metadata": {},
   "outputs": [
    {
     "data": {
      "text/plain": [
       "28.801111111111116"
      ]
     },
     "execution_count": 28,
     "metadata": {},
     "output_type": "execute_result"
    }
   ],
   "source": [
    "# Obtener el coeficiente de determinación R^2 \n",
    "# R^2 = (B'X'y - n*medY^2)/(y'y - n*medY^2)\n",
    "medY2 = RT['Y'].mean()**2\n",
    "medY2"
   ]
  },
  {
   "cell_type": "code",
   "execution_count": 29,
   "id": "7eb643a1",
   "metadata": {},
   "outputs": [
    {
     "data": {
      "text/plain": [
       "0.8530805387109206"
      ]
     },
     "execution_count": 29,
     "metadata": {},
     "output_type": "execute_result"
    }
   ],
   "source": [
    "R2 = (BXy - (57*medY2)) / (y_y - 57*medY2)\n",
    "R2"
   ]
  },
  {
   "cell_type": "code",
   "execution_count": 30,
   "id": "457cf171",
   "metadata": {},
   "outputs": [
    {
     "name": "stdout",
     "output_type": "stream",
     "text": [
      "(57, 6)\n"
     ]
    }
   ],
   "source": [
    "# Se procede a estimar al modelo de manera directa\n",
    "print(RT.shape)"
   ]
  },
  {
   "cell_type": "code",
   "execution_count": 32,
   "id": "510f4a21",
   "metadata": {},
   "outputs": [],
   "source": [
    "import statsmodels.api as sm\n",
    "from statsmodels.iolib.summary2 import summary_col"
   ]
  },
  {
   "cell_type": "code",
   "execution_count": 33,
   "id": "487ca745",
   "metadata": {},
   "outputs": [],
   "source": [
    "#Estimar el modelo\n",
    "mod1 = sm.OLS(endog = RT['Y'],\n",
    "             exog = RT[['X0','X1','X2','X3','X4']])"
   ]
  },
  {
   "cell_type": "code",
   "execution_count": 34,
   "id": "6f8d51b4",
   "metadata": {},
   "outputs": [],
   "source": [
    "# Obtener los resultados del modelo\n",
    "est_mod1 = mod1.fit()"
   ]
  },
  {
   "cell_type": "code",
   "execution_count": 35,
   "id": "0d43e3b5",
   "metadata": {},
   "outputs": [
    {
     "name": "stdout",
     "output_type": "stream",
     "text": [
      "                            OLS Regression Results                            \n",
      "==============================================================================\n",
      "Dep. Variable:                      Y   R-squared:                       0.853\n",
      "Model:                            OLS   Adj. R-squared:                  0.842\n",
      "Method:                 Least Squares   F-statistic:                     75.48\n",
      "Date:                Tue, 28 Nov 2023   Prob (F-statistic):           5.12e-21\n",
      "Time:                        17:58:22   Log-Likelihood:                -62.742\n",
      "No. Observations:                  57   AIC:                             135.5\n",
      "Df Residuals:                      52   BIC:                             145.7\n",
      "Df Model:                           4                                         \n",
      "Covariance Type:            nonrobust                                         \n",
      "==============================================================================\n",
      "                 coef    std err          t      P>|t|      [0.025      0.975]\n",
      "------------------------------------------------------------------------------\n",
      "X0             3.1321      0.561      5.585      0.000       2.007       4.258\n",
      "X1             1.5048      0.136     11.032      0.000       1.231       1.779\n",
      "X2             0.0489      0.036      1.352      0.182      -0.024       0.122\n",
      "X3             0.2744      0.074      3.684      0.001       0.125       0.424\n",
      "X4            -0.0347      0.036     -0.958      0.343      -0.107       0.038\n",
      "==============================================================================\n",
      "Omnibus:                        6.096   Durbin-Watson:                   0.450\n",
      "Prob(Omnibus):                  0.047   Jarque-Bera (JB):                6.220\n",
      "Skew:                           0.437   Prob(JB):                       0.0446\n",
      "Kurtosis:                       4.362   Cond. No.                         95.3\n",
      "==============================================================================\n",
      "\n",
      "Notes:\n",
      "[1] Standard Errors assume that the covariance matrix of the errors is correctly specified.\n"
     ]
    }
   ],
   "source": [
    "# presentar los resultados\n",
    "print(est_mod1.summary())"
   ]
  },
  {
   "cell_type": "code",
   "execution_count": 36,
   "id": "85fd8332",
   "metadata": {},
   "outputs": [
    {
     "data": {
      "text/html": [
       "<div>\n",
       "<style scoped>\n",
       "    .dataframe tbody tr th:only-of-type {\n",
       "        vertical-align: middle;\n",
       "    }\n",
       "\n",
       "    .dataframe tbody tr th {\n",
       "        vertical-align: top;\n",
       "    }\n",
       "\n",
       "    .dataframe thead th {\n",
       "        text-align: right;\n",
       "    }\n",
       "</style>\n",
       "<table border=\"1\" class=\"dataframe\">\n",
       "  <thead>\n",
       "    <tr style=\"text-align: right;\">\n",
       "      <th></th>\n",
       "      <th>Y</th>\n",
       "      <th>X1</th>\n",
       "      <th>X2</th>\n",
       "      <th>X3</th>\n",
       "      <th>X4</th>\n",
       "      <th>X0</th>\n",
       "    </tr>\n",
       "  </thead>\n",
       "  <tbody>\n",
       "    <tr>\n",
       "      <th>Y</th>\n",
       "      <td>1.000000</td>\n",
       "      <td>0.893344</td>\n",
       "      <td>0.500225</td>\n",
       "      <td>0.581026</td>\n",
       "      <td>0.246178</td>\n",
       "      <td>NaN</td>\n",
       "    </tr>\n",
       "    <tr>\n",
       "      <th>X1</th>\n",
       "      <td>0.893344</td>\n",
       "      <td>1.000000</td>\n",
       "      <td>0.436495</td>\n",
       "      <td>0.442356</td>\n",
       "      <td>0.361563</td>\n",
       "      <td>NaN</td>\n",
       "    </tr>\n",
       "    <tr>\n",
       "      <th>X2</th>\n",
       "      <td>0.500225</td>\n",
       "      <td>0.436495</td>\n",
       "      <td>1.000000</td>\n",
       "      <td>0.294225</td>\n",
       "      <td>-0.147599</td>\n",
       "      <td>NaN</td>\n",
       "    </tr>\n",
       "    <tr>\n",
       "      <th>X3</th>\n",
       "      <td>0.581026</td>\n",
       "      <td>0.442356</td>\n",
       "      <td>0.294225</td>\n",
       "      <td>1.000000</td>\n",
       "      <td>0.162913</td>\n",
       "      <td>NaN</td>\n",
       "    </tr>\n",
       "    <tr>\n",
       "      <th>X4</th>\n",
       "      <td>0.246178</td>\n",
       "      <td>0.361563</td>\n",
       "      <td>-0.147599</td>\n",
       "      <td>0.162913</td>\n",
       "      <td>1.000000</td>\n",
       "      <td>NaN</td>\n",
       "    </tr>\n",
       "    <tr>\n",
       "      <th>X0</th>\n",
       "      <td>NaN</td>\n",
       "      <td>NaN</td>\n",
       "      <td>NaN</td>\n",
       "      <td>NaN</td>\n",
       "      <td>NaN</td>\n",
       "      <td>NaN</td>\n",
       "    </tr>\n",
       "  </tbody>\n",
       "</table>\n",
       "</div>"
      ],
      "text/plain": [
       "           Y        X1        X2        X3        X4  X0\n",
       "Y   1.000000  0.893344  0.500225  0.581026  0.246178 NaN\n",
       "X1  0.893344  1.000000  0.436495  0.442356  0.361563 NaN\n",
       "X2  0.500225  0.436495  1.000000  0.294225 -0.147599 NaN\n",
       "X3  0.581026  0.442356  0.294225  1.000000  0.162913 NaN\n",
       "X4  0.246178  0.361563 -0.147599  0.162913  1.000000 NaN\n",
       "X0       NaN       NaN       NaN       NaN       NaN NaN"
      ]
     },
     "execution_count": 36,
     "metadata": {},
     "output_type": "execute_result"
    }
   ],
   "source": [
    "# Matrix de correlación\n",
    "corr_RT = RT.corr()\n",
    "corr_RT"
   ]
  },
  {
   "cell_type": "code",
   "execution_count": null,
   "id": "9fd59041",
   "metadata": {},
   "outputs": [],
   "source": []
  }
 ],
 "metadata": {
  "kernelspec": {
   "display_name": "Python 3 (ipykernel)",
   "language": "python",
   "name": "python3"
  },
  "language_info": {
   "codemirror_mode": {
    "name": "ipython",
    "version": 3
   },
   "file_extension": ".py",
   "mimetype": "text/x-python",
   "name": "python",
   "nbconvert_exporter": "python",
   "pygments_lexer": "ipython3",
   "version": "3.11.5"
  }
 },
 "nbformat": 4,
 "nbformat_minor": 5
}
