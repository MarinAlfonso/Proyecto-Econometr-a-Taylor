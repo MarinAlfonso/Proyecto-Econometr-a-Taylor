{
 "cells": [
  {
   "attachments": {},
   "cell_type": "markdown",
   "id": "435f419d",
   "metadata": {},
   "source": [
    "# En 1993, John B. Taylor diseñó una regla de política monetaria que permitiera a las autoridades monetarias afianzar la producción real alrededor de una meta y a controlar la inflación.\n",
    "# La regla de política sustituye a la curva LM, por lo que, los bancos centrales se centrarán en estabilizar la tasa de interés a muy corto plazo, considerando el valor de la tasa de interés neutral, la tasa de inflación y la intención de igualar la producción real con el potencial."
   ]
  },
  {
   "cell_type": "markdown",
   "id": "db0a4c55",
   "metadata": {},
   "source": [
    "# En 2008, el Banco de México adoptó como objetivo operacional la tasa de interés interbancaria a un día (“tasa de fondeo bancario”) en sustitución del saldo sobre las cuentas corrientes que la banca mantiene en el propio Banco (objetivo conocido como el “corto”)"
   ]
  },
  {
   "cell_type": "markdown",
   "id": "dc66be81",
   "metadata": {},
   "source": [
    "# El modelo econométrico que tiene el fin de estimar la tasa de interés objetivo de Banxico se calcula a partir de los fondos de la Fed, el tipo de cambio (pesos por dólar), la inflación y la brecha del producto.\n",
    "# Si bien, existen más variables que explican la tasa de interés, no obstante, la falta de precisión de los datos dificultó su especificación.\n"
   ]
  },
  {
   "cell_type": "markdown",
   "id": "7974c7c5",
   "metadata": {},
   "source": [
    "# La tasa de Interés Interbancaria de Equilibrio es una variable proxy que sigue la trayectoria de la tasa de interés propuesta por el Banco central, en consecuencia, es una tasa de referencia de las operaciones crediticias entre instituciones bancarias. \n"
   ]
  },
  {
   "cell_type": "markdown",
   "id": "e939b905",
   "metadata": {},
   "source": [
    "# México es una pequeña economía abierta de esta manera la tasa de interés mundial influye en la tasa de interés doméstica, debido a la integración económica y comercial con Estados Unidos, se presenta a la tasa de interés de la Fed como la tasa de interés mundial. \n"
   ]
  },
  {
   "cell_type": "markdown",
   "id": "016b5b8f",
   "metadata": {},
   "source": [
    "# La política monetaria influye en la demanda agregada y la inflación con el objetivo de estabilizar la economía alrededor de su tendencia.\n",
    "# Los bancos centrales emplean la tasa de interés a corto plazo como mecanismo que afecta las decisiones de gasto, ahorro e inversión de los agentes económicos.\n",
    "# Un cambio en la tasa de interés nominal influye en las tasas de interés reales. En consecuencia, el aumento de la tasa de interés reduce la oferta de crédito bancario mediante el mecanismo de selección adversa. \n"
   ]
  },
  {
   "cell_type": "markdown",
   "id": "4d4a4bb5",
   "metadata": {},
   "source": [
    "# Los bancos centrales determinan sus decisiones de forma discrecionales, sin embargo, es posible identificar ciertas conductas regulares que se pueden modelos a partir de reglas para la evaluación de las variables que determinan las decisiones monetarias.\n",
    "# Por lo tanto, el empleo de reglas o modelos que describan el comportamiento de los bancos centrales para proyectar la trayectoria de la política monetaria.  (Galindo y Lizardi)."
   ]
  },
  {
   "cell_type": "markdown",
   "id": "7e6951b7",
   "metadata": {},
   "source": [
    "# La regla establece que cuando la brecha del producto es positiva y la tasa de inflación excede al objetivo, la tasa de interés nominal incrementa para influir en la demanda agregada.\n",
    "# Caso contrario, si la inflación es inferior al objetivo y el nivel de producción real cae por debajo del producto potencial, la tasa de interés nominal disminuye para incentivar la demanda agregada."
   ]
  },
  {
   "cell_type": "markdown",
   "id": "1bd6f16f",
   "metadata": {},
   "source": [
    "# Por tal razón, la tasa de interés es el principal mecanismo de estabilización de la economía en el corto plazo con el propósito de que el sistema de precios emita señales a los agentes para la asignación y una distribución eficiente de los recursos físicos y humanos que promuevan el crecimiento sostenido.\n"
   ]
  }
 ],
 "metadata": {
  "kernelspec": {
   "display_name": "Python 3 (ipykernel)",
   "language": "python",
   "name": "python3"
  },
  "language_info": {
   "codemirror_mode": {
    "name": "ipython",
    "version": 3
   },
   "file_extension": ".py",
   "mimetype": "text/x-python",
   "name": "python",
   "nbconvert_exporter": "python",
   "pygments_lexer": "ipython3",
   "version": "3.11.4"
  }
 },
 "nbformat": 4,
 "nbformat_minor": 5
}
